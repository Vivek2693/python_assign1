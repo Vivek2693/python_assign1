{
 "cells": [
  {
   "cell_type": "markdown",
   "id": "d922f795",
   "metadata": {},
   "source": [
    "### Q1. Who developed Python Programming Language?\n",
    "A1. Python was created by Guido van Rossum and first released in 1991.\n",
    "\n",
    "### Q2. Which type of Programming does Python support?\n",
    "A2. Python supports multiple programming paradigms, including procedural, object-oriented, and functional programming.\n",
    "\n",
    "### Q3. Is Python case sensitive when dealing with identifiers?\n",
    "A3. Yes, Python is case-sensitive when dealing with identifiers. For example, variable, Variable, and VARIABLE are considered different variables.\n",
    "\n",
    "### Q4. What is the correct extension of the Python file?\n",
    "A4. The correct extension for Python files is .py.\n",
    "\n",
    "### Q5. Is Python code compiled or interpreted?\n",
    "A5. Python code is first compiled into bytecode, which is then executed by the Python interpreter. So, Python is both compiled and interpreted.\n",
    "\n",
    "### Q6. Name a few blocks of code used to define in Python language?\n",
    "A6. In Python, code blocks are defined using indentation. Common blocks include functions, loops, conditional statements, and classes.\n",
    "\n",
    "### Q7. State a character used to give single-line comments in Python?\n",
    "A7. In Python, # is used to indicate single-line comments.\n",
    "\n",
    "### Q8. Mention functions which can help us to find the version of Python that we are currently working on?\n",
    "A8. Two functions that can help find the Python version are sys.version and platform.python_version().\n",
    "\n",
    "### Q9. Python supports the creation of anonymous functions at runtime, using a construct called\n",
    "A9. Python supports the creation of anonymous functions at runtime using a construct called lambda expressions.\n",
    "\n",
    "### Q10. What does pip stand for in Python?\n",
    "A10. Pip stands for \"Pip Installs Packages\" or \"Preferred Installer Program\". It is a package management system used to install and manage software packages written in Python.\n",
    "\n",
    "### Q11. Mention a few built-in functions in Python?\n",
    "A11. Some built-in functions in Python include print(), len(), range(), type(), max(), min(), sum(), sorted(), abs(), round(), etc.\n",
    "\n",
    "### Q12. What is the maximum possible length of an identifier in Python?\n",
    "A12. The maximum length of an identifier in Python is not explicitly defined. However, PEP 8 (the Python style guide) recommends keeping identifiers to a maximum of 79 characters for readability.\n",
    "\n",
    "### Q13. What are the benefits of using Python?\n",
    "A13. Some benefits of using Python include its simplicity and readability, extensive standard libraries, strong community support, platform independence, versatility, and wide range of applications in various domains such as web development, data science, artificial intelligence, and more.\n",
    "\n",
    "### Q14. How is memory managed in Python?\n",
    "A14. Memory management in Python is handled by Python's memory manager, which automatically manages the allocation and deallocation of memory for objects. Python uses garbage collection to reclaim memory occupied by objects that are no longer in use.\n",
    "\n",
    "### Q15. How to install Python on Windows and set path variables?\n",
    "A15. To install Python on Windows, you can download the installer from the official Python website (python.org) and run it. During installation, make sure to check the option \"Add Python to PATH\" to automatically set the PATH variables. Alternatively, you can manually set the PATH variables after installation by adding the Python installation directory to the PATH environment variable in System Properties.\n",
    "\n",
    "### Q16. Is indentation re### Quired in Python?\n",
    "A16. Yes, indentation is re### Quired in Python to define code blocks such as loops, functions, and conditional statements. Python uses indentation to indicate the beginning and end of blocks of code."
   ]
  }
 ],
 "metadata": {
  "kernelspec": {
   "display_name": "Python 3 (ipykernel)",
   "language": "python",
   "name": "python3"
  },
  "language_info": {
   "codemirror_mode": {
    "name": "ipython",
    "version": 3
   },
   "file_extension": ".py",
   "mimetype": "text/x-python",
   "name": "python",
   "nbconvert_exporter": "python",
   "pygments_lexer": "ipython3",
   "version": "3.10.9"
  }
 },
 "nbformat": 4,
 "nbformat_minor": 5
}
